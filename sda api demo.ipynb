{
 "cells": [
  {
   "cell_type": "markdown",
   "id": "chicken-yield",
   "metadata": {
    "slideshow": {
     "slide_type": "slide"
    }
   },
   "source": [
    "## 如何使用DNA Center API 部署SDA"
   ]
  },
  {
   "cell_type": "markdown",
   "id": "hollow-nicaragua",
   "metadata": {
    "slideshow": {
     "slide_type": "fragment"
    }
   },
   "source": [
    "### 安装Python环境\n",
    "Python 3.8/3.9"
   ]
  },
  {
   "cell_type": "markdown",
   "id": "changing-creek",
   "metadata": {
    "slideshow": {
     "slide_type": "fragment"
    }
   },
   "source": [
    "### 安装包 Python package for DNAC\n",
    "```\n",
    "pip install notebook\n",
    "pip install dnacentersdk\n",
    "pip install RISE\n",
    "```\n"
   ]
  },
  {
   "cell_type": "markdown",
   "id": "floating-billy",
   "metadata": {
    "slideshow": {
     "slide_type": "slide"
    }
   },
   "source": [
    "### 检查python 环境和安装包是否 OK\n",
    "```\n",
    "pip list\n",
    "```\n",
    "DNAC SDK 手册: [https://dnacentersdk.readthedocs.io/en/latest/installation.html](https://dnacentersdk.readthedocs.io/en/latest/installation.html)\n",
    "\n",
    "DNAC 如何使用API实现SDA功能： [Software Defined Access Guide](https://developer.cisco.com/docs/dna-center/#!sda/software-defined-access-guide)"
   ]
  },
  {
   "cell_type": "markdown",
   "id": "injured-woman",
   "metadata": {
    "slideshow": {
     "slide_type": "slide"
    }
   },
   "source": [
    "##### 如何优雅地在notebook中使用Markdown"
   ]
  },
  {
   "cell_type": "code",
   "execution_count": null,
   "id": "solid-alignment",
   "metadata": {
    "slideshow": {
     "slide_type": "fragment"
    }
   },
   "outputs": [],
   "source": [
    "import json\n",
    "from IPython.display import display, Markdown"
   ]
  },
  {
   "cell_type": "code",
   "execution_count": null,
   "id": "collectible-action",
   "metadata": {
    "slideshow": {
     "slide_type": "fragment"
    }
   },
   "outputs": [],
   "source": [
    "def printmd(string):\n",
    "    display(Markdown(string))"
   ]
  },
  {
   "cell_type": "code",
   "execution_count": null,
   "id": "entire-doubt",
   "metadata": {
    "slideshow": {
     "slide_type": "fragment"
    }
   },
   "outputs": [],
   "source": [
    "_test_str = '''\n",
    "|第一列|第2列|Column 3| 4th|\n",
    "|:------:|:---------:|------|----------|\n",
    "|第一行列1|第一行列2|列3|列4|\n",
    "|第2行列1|第2行列2|列3|列4|\n",
    "'''\n",
    "printmd(_test_str)"
   ]
  },
  {
   "cell_type": "markdown",
   "id": "generous-overview",
   "metadata": {
    "slideshow": {
     "slide_type": "slide"
    }
   },
   "source": [
    "### DNAC 基本信息设置：IP地址、用户、密码"
   ]
  },
  {
   "cell_type": "code",
   "execution_count": null,
   "id": "exact-principle",
   "metadata": {
    "slideshow": {
     "slide_type": "fragment"
    }
   },
   "outputs": [],
   "source": [
    "dnac =  {\n",
    "    \"base_url\": \"https://1.1.1.1/\",\n",
    "    \"username\": \"admin\",\n",
    "    \"password\": \"cisco\",\n",
    "    \"version\": \"1.3.3\"\n",
    "}\n",
    "\n",
    "# 版本选择清单为：1.2.10, 1.3.0, 1.3.1, 1.3.3, 2.1.1 and 2.1.2。"
   ]
  },
  {
   "cell_type": "code",
   "execution_count": null,
   "id": "arctic-habitat",
   "metadata": {
    "slideshow": {
     "slide_type": "fragment"
    }
   },
   "outputs": [],
   "source": [
    "print(dnac)\n",
    "\n",
    "# 检查方法很简单，print能够正常输出设置的信息即可。"
   ]
  },
  {
   "cell_type": "markdown",
   "id": "efficient-habitat",
   "metadata": {
    "slideshow": {
     "slide_type": "slide"
    }
   },
   "source": [
    "### DNAC API 交互"
   ]
  },
  {
   "cell_type": "markdown",
   "id": "bright-sequence",
   "metadata": {
    "slideshow": {
     "slide_type": "slide"
    }
   },
   "source": [
    "#### API 系统初始设置"
   ]
  },
  {
   "cell_type": "code",
   "execution_count": null,
   "id": "otherwise-motorcycle",
   "metadata": {
    "slideshow": {
     "slide_type": "fragment"
    }
   },
   "outputs": [],
   "source": [
    "import urllib3\n",
    "from dnacentersdk import DNACenterAPI, ApiError\n",
    "urllib3.disable_warnings()\n",
    "\n",
    "def dnac_api(dnac=dnac):\n",
    "    try:\n",
    "        dnac_api = DNACenterAPI(\n",
    "            username=dnac[\"username\"],\n",
    "            password=dnac[\"password\"],\n",
    "            base_url=dnac[\"base_url\"],\n",
    "            version=dnac[\"version\"],\n",
    "            verify=False\n",
    "        )\n",
    "        return dnac_api\n",
    "    except ApiError as e:\n",
    "        logger.error(f\"Error occurs when touch with DNAC: {e}\")\n",
    "        token[\"status\"] = \"error\"\n",
    "        return\n",
    "api = dnac_api()\n",
    "\n",
    "# 运行时没有报错即OK。\n",
    "# 下述步骤中，使用API与DNAC交互时，将使用该名字：api"
   ]
  },
  {
   "cell_type": "markdown",
   "id": "destroyed-mercy",
   "metadata": {
    "slideshow": {
     "slide_type": "slide"
    }
   },
   "source": [
    "#### 获取DNAC中交换机等设备详细信息"
   ]
  },
  {
   "cell_type": "markdown",
   "id": "adolescent-ukraine",
   "metadata": {
    "slideshow": {
     "slide_type": "fragment"
    }
   },
   "source": [
    "##### 纳管设备数量"
   ]
  },
  {
   "cell_type": "code",
   "execution_count": null,
   "id": "endless-standing",
   "metadata": {
    "slideshow": {
     "slide_type": "fragment"
    }
   },
   "outputs": [],
   "source": [
    "print(api.devices.get_device_count())\n",
    "\n",
    "# 输出DNAC中纳管设备总数量，查看输出的 JSON response\n",
    "# 延伸问题：如何使用SDK获取信息？SDK使用方法？\n",
    "# 参考SDK手册"
   ]
  },
  {
   "cell_type": "markdown",
   "id": "seasonal-decline",
   "metadata": {
    "slideshow": {
     "slide_type": "fragment"
    }
   },
   "source": [
    "##### 设备清单"
   ]
  },
  {
   "cell_type": "code",
   "execution_count": null,
   "id": "toxic-burden",
   "metadata": {
    "slideshow": {
     "slide_type": "slide"
    }
   },
   "outputs": [],
   "source": [
    "devices_dict = {}\n",
    "devices = api.devices.get_device_list()\n",
    "\n",
    "_device_list_table = '''\n",
    "|hostname|IP地址|UUID|\n",
    "|:-------|:----|:---|\n",
    "'''\n",
    "\n",
    "_device_only_ip = (\"172.16.0.2\",\"172.16.0.3\") # 这2个IP地址是过滤条件\n",
    "for device in devices.get(\"response\"):\n",
    "    if device.get(\"managementIpAddress\") in _device_only_ip:\n",
    "        _new_deivce = \"|\".join([device.get(\"hostname\"), device.get(\"managementIpAddress\"), device.get(\"id\")]) + \"\\n\"\n",
    "        _device_list_table += _new_deivce\n",
    "    if device.get(\"managementIpAddress\"):\n",
    "        devices_dict[device.get(\"managementIpAddress\")] = device\n",
    "\n",
    "printmd(_device_list_table)\n",
    "        \n",
    "# 输出DNAC中纳管设备具体的hostname名称、IP地址、UUID\n",
    "# 该信息通过markdown table输出表格信息\n",
    "# 只列出列表中的设备信息，列表名称为：_device_only_ip"
   ]
  },
  {
   "cell_type": "markdown",
   "id": "prime-class",
   "metadata": {
    "slideshow": {
     "slide_type": "slide"
    }
   },
   "source": [
    "#### 获取DNAC中 site name信息"
   ]
  },
  {
   "cell_type": "code",
   "execution_count": null,
   "id": "floppy-ordering",
   "metadata": {
    "slideshow": {
     "slide_type": "fragment"
    }
   },
   "outputs": [],
   "source": [
    "print(api.sites.get_site_count())\n",
    "\n",
    "# 输出DNAC中design site总数量"
   ]
  },
  {
   "cell_type": "code",
   "execution_count": null,
   "id": "foreign-elephant",
   "metadata": {
    "slideshow": {
     "slide_type": "slide"
    }
   },
   "outputs": [],
   "source": [
    "sites = api.sites.get_site()\n",
    "site_siteNameHierarchy = [ i.get(\"siteNameHierarchy\") for i in sites.get(\"response\")]\n",
    "\n",
    "print(\"\\n\".join(site_siteNameHierarchy))\n",
    "\n",
    "# 输出DNAC中具体的site name\n",
    "# 删除site name 中的空格"
   ]
  },
  {
   "cell_type": "markdown",
   "id": "controlled-phrase",
   "metadata": {
    "slideshow": {
     "slide_type": "slide"
    }
   },
   "source": [
    "### 设备端口"
   ]
  },
  {
   "cell_type": "markdown",
   "id": "conscious-therapist",
   "metadata": {
    "slideshow": {
     "slide_type": "fragment"
    }
   },
   "source": [
    "##### 端口数量"
   ]
  },
  {
   "cell_type": "code",
   "execution_count": null,
   "id": "returning-operation",
   "metadata": {
    "slideshow": {
     "slide_type": "fragment"
    }
   },
   "outputs": [],
   "source": [
    "device_ip = \"172.16.0.3\"\n",
    "print(f'该步骤中查询的设备IP地址为: {device_ip}, 其主机名hostname: {devices_dict[device_ip].get(\"hostname\")}')\n",
    "\n",
    "device_id = devices_dict[device_ip].get(\"id\")\n",
    "interface_count = api.devices.get_device_interface_count_by_id(device_id)\n",
    "print('返回的JSON数据为：')\n",
    "print(interface_count)\n",
    "\n",
    "# 获取某个设备的端口总数量，本例子中查询的设备IP地址为：172.16.0.3\n",
    "# 返回设备总数量 response"
   ]
  },
  {
   "cell_type": "markdown",
   "id": "focused-honor",
   "metadata": {
    "slideshow": {
     "slide_type": "slide"
    }
   },
   "source": [
    "##### 端口清单"
   ]
  },
  {
   "cell_type": "code",
   "execution_count": null,
   "id": "textile-butter",
   "metadata": {
    "slideshow": {
     "slide_type": "slide"
    }
   },
   "outputs": [],
   "source": [
    "interfaces = api.devices.get_interface_info_by_id(device_id)\n",
    "interface_list = []\n",
    "\n",
    "_interface_list_table = '''\n",
    "|端口名称|IP地址|Admin status|状态|端口模式|\n",
    "|:-------|:----|:---|:---|:---|\n",
    "'''\n",
    "\n",
    "_interface_only_list = [\"GigabitEthernet1/0/6\",\"GigabitEthernet1/0/7\",\"GigabitEthernet1/0/8\"]\n",
    "\n",
    "for i in interfaces.get(\"response\"):\n",
    "    if \"Ethernet Port\" in i.get(\"portType\") and \"routed\" not in i.get(\"portMode\"):\n",
    "        if i.get(\"portName\",\"\") in _interface_only_list:\n",
    "            _ip = i.get(\"ipv4Address\",\"\") if i.get(\"ipv4Address\") else ''\n",
    "            _interface_list_table += \"|\".join([i.get(\"portName\",\"\"), _ip, i.get(\"adminStatus\",\"\"), i.get(\"status\",\"\"), i.get(\"portMode\",\"\")]) + \"\\n\"\n",
    "        interface_list.append(i.get(\"portName\"))\n",
    "\n",
    "printmd(_interface_list_table)\n",
    "\n",
    "# 获取某个设备的端口详细信息、和运行状态\n",
    "# 只列出列表中的端口信息，列表名称为：_interface_only_list"
   ]
  },
  {
   "cell_type": "markdown",
   "id": "destroyed-appearance",
   "metadata": {
    "slideshow": {
     "slide_type": "slide"
    }
   },
   "source": [
    "### fabric 信息查询"
   ]
  },
  {
   "cell_type": "markdown",
   "id": "responsible-prediction",
   "metadata": {
    "slideshow": {
     "slide_type": "fragment"
    }
   },
   "source": [
    "##### control node 检查"
   ]
  },
  {
   "cell_type": "code",
   "execution_count": null,
   "id": "skilled-lying",
   "metadata": {
    "slideshow": {
     "slide_type": "fragment"
    }
   },
   "outputs": [],
   "source": [
    "print(f'查询的设备IP地址为: {device_ip}, 其主机名: {devices_dict[device_ip].get(\"hostname\")}\\n返回的JSON数据为：')\n",
    "\n",
    "sda_device = api.sda.get_control_plane_device(device_ip)\n",
    "\n",
    "print(sda_device)\n",
    "\n",
    "# 查询该设备是否为：control node，也就是LISP MAP server\n",
    "# 本例子中，该IP地址设备为Edge node，而不是control node，返回状态为：failed"
   ]
  },
  {
   "cell_type": "markdown",
   "id": "frank-sample",
   "metadata": {
    "slideshow": {
     "slide_type": "slide"
    }
   },
   "source": [
    "##### control node 检查"
   ]
  },
  {
   "cell_type": "code",
   "execution_count": null,
   "id": "august-metro",
   "metadata": {
    "slideshow": {
     "slide_type": "fragment"
    }
   },
   "outputs": [],
   "source": [
    "control_device_ip = \"172.16.0.2\"\n",
    "print(f'查询的IP地址为: {control_device_ip}, 其主机名: {devices_dict[control_device_ip].get(\"hostname\")}\\n返回的JSON数据为：')\n",
    "\n",
    "sda_device = api.sda.get_control_plane_device(control_device_ip)\n",
    "\n",
    "print(sda_device)\n",
    "\n",
    "# 查询该设备是否为：control node，也就是LISP MAP server。如果正确，则返回success。\n",
    "# 本例子中，该IP地址设备为control node，返回状态正确，并且返回roles：['BORDERNODE', 'MAPSERVER']"
   ]
  },
  {
   "cell_type": "markdown",
   "id": "fiscal-consciousness",
   "metadata": {
    "slideshow": {
     "slide_type": "slide"
    }
   },
   "source": [
    "##### edge node 检查"
   ]
  },
  {
   "cell_type": "code",
   "execution_count": null,
   "id": "subjective-microphone",
   "metadata": {
    "slideshow": {
     "slide_type": "fragment"
    }
   },
   "outputs": [],
   "source": [
    "device_edge_ip = \"172.16.0.3\"\n",
    "print(f'查询的IP地址为: {device_edge_ip}, 其主机名: {devices_dict[device_edge_ip].get(\"hostname\")}\\n返回的JSON数据为：')\n",
    "\n",
    "sda_edge_device = api.sda.get_device_info(device_edge_ip)\n",
    "\n",
    "print(sda_edge_device)\n",
    "\n",
    "# 查询该设备是否为：edge node。如果正确，则返回success。\n",
    "# 本例子中，该IP地址设备为edge node，返回状态正确，并且返回roles：['EDGENODE']"
   ]
  },
  {
   "cell_type": "markdown",
   "id": "applied-hydrogen",
   "metadata": {
    "slideshow": {
     "slide_type": "slide"
    }
   },
   "source": [
    "##### 默认authentication获取"
   ]
  },
  {
   "cell_type": "code",
   "execution_count": null,
   "id": "graphic-armor",
   "metadata": {
    "slideshow": {
     "slide_type": "fragment"
    }
   },
   "outputs": [],
   "source": [
    "siteNameHierarchy = sda_edge_device.get(\"siteNameHierarchy\")\n",
    "sda_authentication = api.sda.get_default_authentication_profile(siteNameHierarchy)\n",
    "\n",
    "print(sda_authentication)\n",
    "print(f'使用点\".\"来获取默认认证方式为：{sda_authentication.authenticateTemplateName}')\n",
    "\n",
    "# 查询fabric 所使用的default authentication method\n",
    "# 本例子中，返回的缺省认证模式为closed，所以：所有没有明确配置的交换机端口将使用802.1x认证方式\n",
    "# 本例子中，我们也可以使用. 来调用返回的json数据。"
   ]
  },
  {
   "cell_type": "markdown",
   "id": "common-vinyl",
   "metadata": {
    "slideshow": {
     "slide_type": "slide"
    }
   },
   "source": [
    "### fabric 端口配置查询"
   ]
  },
  {
   "cell_type": "code",
   "execution_count": null,
   "id": "deluxe-grove",
   "metadata": {
    "slideshow": {
     "slide_type": "fragment"
    }
   },
   "outputs": [],
   "source": [
    "user_access_interface = \"GigabitEthernet1/0/9\"\n",
    "\n",
    "print(f\"查询的SDA配置端口为：{user_access_interface}\\n其返回数据为：\")\n",
    "_data_ok = api.sda.get_port_assignment_for_access_point(device_edge_ip, user_access_interface)\n",
    "print(json.dumps(_data_ok, indent=4))\n",
    "\n",
    "# 查询SDA设置的端口配置信息：status == success表示端口已经配置，\n",
    "# dataIpAddressPoolName: GC_wired，为用户端口配置ip pool name\n",
    "# pool name 是 dnac 中已经设置OK的"
   ]
  },
  {
   "cell_type": "code",
   "execution_count": null,
   "id": "stylish-discussion",
   "metadata": {
    "slideshow": {
     "slide_type": "slide"
    }
   },
   "outputs": [],
   "source": [
    "no_config_interface = \"GigabitEthernet1/0/8\"\n",
    "\n",
    "print(f\"查询的SDA配置端口为：{no_config_interface}\\n其返回数据为：\")\n",
    "_data = api.sda.get_port_assignment_for_access_point(device_edge_ip, no_config_interface)\n",
    "print(json.dumps(_data, indent=4))\n",
    "\n",
    "# 查询SDA设置的端口配置信息：status == success表示端口已经配置，failed表示端口未明确配置，采用默认的认证方式。\n"
   ]
  },
  {
   "cell_type": "markdown",
   "id": "applicable-blues",
   "metadata": {
    "slideshow": {
     "slide_type": "slide"
    }
   },
   "source": [
    "### SDA 端口设置操作"
   ]
  },
  {
   "cell_type": "markdown",
   "id": "internal-monster",
   "metadata": {
    "slideshow": {
     "slide_type": "fragment"
    }
   },
   "source": [
    "##### 配置准备"
   ]
  },
  {
   "cell_type": "code",
   "execution_count": null,
   "id": "classified-paris",
   "metadata": {
    "slideshow": {
     "slide_type": "slide"
    }
   },
   "outputs": [],
   "source": [
    "print(f'拟打算使用API配置的空闲端口为:{no_config_interface}\\n该端口将使用的配置参数为：')\n",
    "default_authentication = sda_authentication.get(\"authenticateTemplateName\")\n",
    "no_authentication = \"No Authentication\"\n",
    "\n",
    "\n",
    "new_port_assignment_info = {k:v for k,v in _data_ok.items() if k in [\"siteNameHierarchy\",\"deviceManagementIpAddress\",\"dataIpAddressPoolName\",\"voiceIpAddressPoolName\"]}\n",
    "new_port_assignment_info.update({\"interfaceName\": no_config_interface, \"authenticateTemplateName\": no_authentication})\n",
    "\n",
    "print(json.dumps(new_port_assignment_info, indent=4))\n",
    "\n",
    "# 准备配置端口，准备端口的配置信息，格式为JSON数据"
   ]
  },
  {
   "cell_type": "markdown",
   "id": "occupied-situation",
   "metadata": {
    "slideshow": {
     "slide_type": "slide"
    }
   },
   "source": [
    "##### 端口配置"
   ]
  },
  {
   "cell_type": "code",
   "execution_count": null,
   "id": "adequate-basis",
   "metadata": {
    "slideshow": {
     "slide_type": "fragment"
    }
   },
   "outputs": [],
   "source": [
    "port_assignment = [new_port_assignment_info]\n",
    "sda_new_int_info = api.sda.add_port_assignment_for_user_device(payload=port_assignment)\n",
    "print(json.dumps(sda_new_int_info, indent=4))\n",
    "\n",
    "# 端口设置：使用API设置端口，端口设置为：接入的pool name为 GC_wired\n",
    "# 返回\"status\": \"pending\"表示：DNAC 正在后台处理请求，并返回查询的链接URL\n",
    "# 查询处理结果，浏览器打开executionStatusUrl"
   ]
  },
  {
   "cell_type": "markdown",
   "id": "pregnant-species",
   "metadata": {
    "slideshow": {
     "slide_type": "slide"
    }
   },
   "source": [
    "##### API结果查询"
   ]
  },
  {
   "cell_type": "code",
   "execution_count": null,
   "id": "african-center",
   "metadata": {
    "slideshow": {
     "slide_type": "fragment"
    }
   },
   "outputs": [],
   "source": [
    "_data = api.custom_caller.call_api('GET',sda_new_int_info.executionStatusUrl).response\n",
    "print(json.dumps(_data, indent=4))\n",
    "\n",
    "# 查询刚刚API 配置的结果\n",
    "# isError == false 表示运行处理正确，没有问题\n",
    "# startTime、endTime 分别表示提交申请、处理完毕时间戳"
   ]
  },
  {
   "cell_type": "code",
   "execution_count": null,
   "id": "coordinate-highlight",
   "metadata": {
    "slideshow": {
     "slide_type": "slide"
    }
   },
   "outputs": [],
   "source": [
    "print(f'刚刚配置的端口为：{no_config_interface}\\n配置信息是：')\n",
    "\n",
    "fabric_name = sda_site.get(\"fabricName\")\n",
    "sda_assign_int_info = api.sda.get_port_assignment_for_access_point(device_edge_ip, no_config_interface)\n",
    "print(json.dumps(sda_assign_int_info, indent=4))\n",
    "\n",
    "# 查询：该端口目前的状态，下述显示为端口配置：SDA成功配置"
   ]
  },
  {
   "cell_type": "markdown",
   "id": "agreed-genius",
   "metadata": {
    "slideshow": {
     "slide_type": "slide"
    }
   },
   "source": [
    "##### 端口配置删除"
   ]
  },
  {
   "cell_type": "code",
   "execution_count": null,
   "id": "chemical-gasoline",
   "metadata": {
    "slideshow": {
     "slide_type": "fragment"
    }
   },
   "outputs": [],
   "source": [
    "print(no_config_interface)\n",
    "\n",
    "fabric_name = sda_site.get(\"fabricName\")\n",
    "sda_delete_int_info = api.sda.delete_port_assignment_for_user_device(device_edge_ip, no_config_interface)\n",
    "print(json.dumps(sda_delete_int_info, indent=4))\n",
    "\n",
    "# 删除：端口的配置，下述显示为端口配置删除任务进行中。可以查询任务结果executionStatusUrl，和前述步骤类似。"
   ]
  },
  {
   "cell_type": "markdown",
   "id": "internal-terry",
   "metadata": {
    "slideshow": {
     "slide_type": "slide"
    }
   },
   "source": [
    "##### 遍历查询所有端口方法"
   ]
  },
  {
   "cell_type": "code",
   "execution_count": null,
   "id": "italian-eating",
   "metadata": {
    "slideshow": {
     "slide_type": "fragment"
    }
   },
   "outputs": [],
   "source": [
    "print(\"interface          \\tSDA_config_status\\n-----------------------------------------\")\n",
    "i = 1\n",
    "for one in interface_list:\n",
    "    sda_assign_int_info = api.sda.get_port_assignment_for_access_point(device_edge_ip, one)\n",
    "    print(f'{one}:\\t{sda_assign_int_info.status}')\n",
    "    i += 1\n",
    "    if i >5:\n",
    "        break\n",
    "\n",
    "# rate limit for this API。注意点：限速\n",
    "# 查询所有端口SDA配置"
   ]
  },
  {
   "cell_type": "code",
   "execution_count": null,
   "id": "lesbian-librarian",
   "metadata": {},
   "outputs": [],
   "source": []
  }
 ],
 "metadata": {
  "celltoolbar": "Slideshow",
  "kernelspec": {
   "display_name": "Python 3",
   "language": "python",
   "name": "python3"
  },
  "language_info": {
   "codemirror_mode": {
    "name": "ipython",
    "version": 3
   },
   "file_extension": ".py",
   "mimetype": "text/x-python",
   "name": "python",
   "nbconvert_exporter": "python",
   "pygments_lexer": "ipython3",
   "version": "3.8.7"
  }
 },
 "nbformat": 4,
 "nbformat_minor": 5
}
